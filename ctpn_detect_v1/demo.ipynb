{
 "cells": [
  {
   "cell_type": "code",
   "execution_count": null,
   "metadata": {},
   "outputs": [],
   "source": [
    "import time\n",
    "from glob import glob\n",
    "\n",
    "import numpy as np\n",
    "from PIL import Image\n",
    "\n",
    "import model"
   ]
  },
  {
   "cell_type": "code",
   "execution_count": null,
   "metadata": {},
   "outputs": [],
   "source": [
    "# 运行前需要的配置\n",
    "# 1. 修改 angle/predict.py 32行 模型地址\n",
    "# TODO 2. 修改 /ctpn/ctpn/model.py 36 行 checkpoint 地址\n",
    "# TODO 3. 覆盖/ctpn_detect_v1/ctpn/lib/utils\n",
    "\n",
    "# https://tesseract-ocr.github.io/tessdoc/ImproveQuality\n",
    "\n",
    "im = Image.open(\"/Users/liuliangjun/Downloads/test18.png\")\n",
    "img = np.array(im.convert('RGB'))\n",
    "\n",
    "t = time.time()\n",
    "\n",
    "result, img, text_recs = model.model(\n",
    "    img, model='crnn', adjust=False, detectAngle=True)\n",
    "\n",
    "print(\"It takes time:{}s\".format(time.time() - t))\n",
    "print(\"---------------------------------------\")\n",
    "\n",
    "# 对版面进行排序（bubbleSort）\n",
    "# [x1,y1] [x2,y2]\n",
    "benchmark = 8  # 基准像素点，相差在这个范围内的文本域都认为是在同一水平线上\n",
    "\n",
    "arr = sorted(result.values(), key=lambda x:x[0][1])  # 按左上角点y排序\n",
    "arr = [[*row, idx] for idx, row in enumerate(result.values())] # 每个文本域预先设定一个idx(idx理解为所在的行号)\n",
    "\n",
    "_len = len(arr)\n",
    "for i in range(_len):\n",
    "    for j in range(0, _len-i-1):\n",
    "        if (arr[j+1][0][1] - arr[j][0][1]) <= benchmark and arr[j][0][0] > arr[j+1][0][0]:\n",
    "            # 如果 (y2-y1)<= benchmark and x1 > x2 则交换它们的位置\n",
    "            arr[j], arr[j+1] = arr[j+1], arr[j]\n",
    "        if (arr[j+1][0][1] - arr[j][0][1]) <= benchmark:\n",
    "            # 如果 (y2-y1)<= benchmark 则后者继承前者的idx（也即认为他们在同一水平线上）\n",
    "            arr[j+1][-1] =  arr[j][-1]\n",
    "            \n",
    "            \n",
    "# 将同一水平线的文本域合并\n",
    "res = {}\n",
    "for v in arr:\n",
    "    res.setdefault(v[-1], []).append(v[1])\n",
    "\n",
    "# 按行打印\n",
    "for k, v in res.items():\n",
    "    print(k, v)\n",
    "            \n",
    "Image.fromarray(img)"
   ]
  },
  {
   "cell_type": "code",
   "execution_count": null,
   "metadata": {},
   "outputs": [],
   "source": [
    "# confidence低于80 则需要匹配(只匹配单词，数字和符号不考虑)\n",
    "import Levenshtein\n",
    "\n",
    "word_list = ['Hong','Kong', 'Items']\n",
    "\n",
    "def correct(word):\n",
    "    \"\"\"\n",
    "    与word_list中的单词比较编辑距离，小于等于1的就返回，否则返回原词\n",
    "    \"\"\"\n",
    "    print(word)\n",
    "    data = [(w, Levenshtein.distance(word, w)) for w in word_list]\n",
    "    for w, d in sorted(data, key=lambda x: x[1]):\n",
    "        if d <= 1:\n",
    "            return w\n",
    "        break\n",
    "    return word\n",
    "\n",
    "correct('Hongs')\n",
    "    "
   ]
  },
  {
   "cell_type": "code",
   "execution_count": null,
   "metadata": {},
   "outputs": [],
   "source": [
    "# 包含 MEDICAL / CENTRE  / hospital 等则认为这是医院名 一般在开始几行\n",
    "# Building street road Room  Hong Kong  st\n",
    "\n",
    "# 按行打印\n",
    "data = []\n",
    "for idx, line in res.items():\n",
    "    line_data = []\n",
    "    for box in line:\n",
    "        val = [correct(str(word)) if (str(word).isalpha() and confidence < 80) else str(word) for confidence, word in box]\n",
    "        line_data.append(' '.join(val))\n",
    "    data.append(line_data)\n",
    "data"
   ]
  },
  {
   "cell_type": "code",
   "execution_count": null,
   "metadata": {},
   "outputs": [],
   "source": []
  },
  {
   "cell_type": "code",
   "execution_count": null,
   "metadata": {},
   "outputs": [],
   "source": [
    "# 匹配 hospital name, address\n",
    "text1 = '\\n'.join(sum(res.values(), []))\n",
    "hospital_name = regex.findall('(.*(MEDICAL|CENTRE|HOSPITAL).*)', text1, flags=regex.IGNORECASE)\n",
    "address = regex.findall('\\n([\\w,&]*(Room|Office|Building|Street|Road).*)', text1, flags=regex.IGNORECASE)\n",
    "\n",
    "\n",
    "# 匹配tel,fax,transaction code, date, Doctor, Patient Code, Patient Name, total, Paid, Diagnosis\n",
    "import regex \n",
    "text2 = '\\n'.join([' '.join(v) for k, v in res.items()])  \n",
    "# print(text2)\n",
    "print('Result'.center(50, '-'))\n",
    "regex_map = {\n",
    "    'Tel': '(Tel : ([+\\d ]+)){e<=1}',\n",
    "    'Fax': '(Fax : ([+\\d ]+)){e<=1}',\n",
    "    'Transaction Code': '(Transaction Code : ([\\d]+)){e<=2}',\n",
    "    'Date': '(Date : (\\d{2} [a-zA-Z,]+ \\d{4})){e<=2}',\n",
    "    'Doctor': '(Doctor : (\\w+)\\n){e<=2}',\n",
    "    'Patient Code': '(Patient Code : (\\d+)\\n){e<=2}',\n",
    "    'Patient Name': '(Patient Code : \\d+\\n(.*)\\nItems){e<=3}',\n",
    "    'Total': '(Total : ([\\d\\.\\,]+)){e<=2}',\n",
    "    'Paid': '(Paid : ([\\d\\.\\,]+)){e<=2}',\n",
    "    'Diagnosis': '(Diagnosis : (.*)\\n){e<=3}'\n",
    "}\n",
    "# print(hospital_name)\n",
    "print(f\"Hospital Name: {hospital_name[0][0] if hospital_name else ''}\")\n",
    "# print(address)\n",
    "print(f\"Address: {address[0][0] if address else ''}\")\n",
    "for k, pat in regex_map.items():\n",
    "    ret = regex.findall(pat, text2)\n",
    "    print(f\"{k}: {ret[0][-1] if ret else ''}\")\n",
    "    \n",
    "\n",
    "from pandas import DataFrame\n",
    "start_idx, end_idx = 0, 0\n",
    "values = list(res.values())\n",
    "for k, v in enumerate(values):\n",
    "    to_str = ' '.join(v)\n",
    "    if regex.match('(Items.*Amount){e<=2}', to_str):\n",
    "        start_idx = k\n",
    "    elif regex.match('(Total.*Paid){e<=2}', to_str):\n",
    "        end_idx = k\n",
    "        \n",
    "data = values[start_idx:end_idx]\n",
    "DataFrame(data[1:], columns=data[0])"
   ]
  },
  {
   "cell_type": "code",
   "execution_count": null,
   "metadata": {},
   "outputs": [],
   "source": [
    "# result, img, text_recs"
   ]
  },
  {
   "cell_type": "code",
   "execution_count": null,
   "metadata": {},
   "outputs": [],
   "source": [
    "# result\n",
    "img.shape\n",
    "\n",
    "xDim, yDim = img.shape[1], img.shape[0]\n",
    "print(xDim, yDim)"
   ]
  },
  {
   "cell_type": "code",
   "execution_count": null,
   "metadata": {},
   "outputs": [],
   "source": []
  },
  {
   "cell_type": "code",
   "execution_count": null,
   "metadata": {},
   "outputs": [],
   "source": []
  }
 ],
 "metadata": {
  "kernelspec": {
   "display_name": "Python 3",
   "language": "python",
   "name": "python3"
  },
  "language_info": {
   "codemirror_mode": {
    "name": "ipython",
    "version": 3
   },
   "file_extension": ".py",
   "mimetype": "text/x-python",
   "name": "python",
   "nbconvert_exporter": "python",
   "pygments_lexer": "ipython3",
   "version": "3.6.3"
  }
 },
 "nbformat": 4,
 "nbformat_minor": 4
}
